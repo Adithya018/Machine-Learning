{
  "metadata": {
    "language_info": {
      "codemirror_mode": {
        "name": "python",
        "version": 3
      },
      "file_extension": ".py",
      "mimetype": "text/x-python",
      "name": "python",
      "nbconvert_exporter": "python",
      "pygments_lexer": "ipython3",
      "version": "3.8"
    },
    "kernelspec": {
      "name": "python",
      "display_name": "Python (Pyodide)",
      "language": "python"
    }
  },
  "nbformat_minor": 4,
  "nbformat": 4,
  "cells": [
    {
      "cell_type": "code",
      "source": "# Use a tab escape sequence to get the following lines\nprint(\"Name\\tAge\\tCountry\\tCity\")\nprint(\"Asabeneh\\t250\\tFinland\\tHelsinki\")\n\n#In the above code snippet, I have used the \\t escape sequence to create a tab between each column. The print() function is used to print the content on the screen.",
      "metadata": {
        "trusted": true
      },
      "execution_count": 2,
      "outputs": [
        {
          "name": "stdout",
          "text": "Name\tAge\tCountry\tCity\nAsabeneh\t250\tFinland\tHelsinki\n",
          "output_type": "stream"
        }
      ]
    }
  ]
}