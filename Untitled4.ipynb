{
  "metadata": {
    "language_info": {
      "codemirror_mode": {
        "name": "python",
        "version": 3
      },
      "file_extension": ".py",
      "mimetype": "text/x-python",
      "name": "python",
      "nbconvert_exporter": "python",
      "pygments_lexer": "ipython3",
      "version": "3.8"
    },
    "kernelspec": {
      "name": "python",
      "display_name": "Python (Pyodide)",
      "language": "python"
    }
  },
  "nbformat_minor": 4,
  "nbformat": 4,
  "cells": [
    {
      "cell_type": "code",
      "source": "it_companies = {'Facebook', 'Google', 'Microsoft', 'Apple', 'IBM', 'Oracle', 'Amazon'}\n\nA = {19, 22, 24, 20, 25, 26}\n\nB = {19, 22, 20, 25, 26, 24, 28, 27}\n\nage = [22, 19, 24, 25, 26, 24, 25, 24]\n\nprint(len(it_companies))\n\nit_companies.add('Twitter')\n\nit_companies.update(['Uber','Airbnb','Spotify'])\n\nit_companies.remove('Oracle')\n\nprint(\"The difference between remove and discard is that remove raises an error if the element is not present in the set, while discard does not.\")\nprint(A.union(B))\nprint(A.intersection(B))\nprint(A.issubset(B))\nprint(A.isdisjoint(B))\nprint(A.union(B),B.union(A))\nprint(A.symmetric_difference(B))\n\ndel it_companies\ndel A\ndel B\n\nage_set = set(age)\nprint(len(age))\nprint(len(age_set))\n\n#I used set operations such as add, update, remove, union, intersection, issubset, isdisjoint, symmetric_difference and finally, I deleted the sets using 'del' keyword. I also converted a list of ages to a set and compared the length of the list and the set.\n",
      "metadata": {
        "trusted": true
      },
      "execution_count": 1,
      "outputs": [
        {
          "name": "stdout",
          "text": "7\nThe difference between remove and discard is that remove raises an error if the element is not present in the set, while discard does not.\n{19, 20, 22, 24, 25, 26, 27, 28}\n{19, 20, 22, 24, 25, 26}\nTrue\nFalse\n{19, 20, 22, 24, 25, 26, 27, 28} {19, 20, 22, 24, 25, 26, 27, 28}\n{27, 28}\n8\n5\n",
          "output_type": "stream"
        }
      ]
    }
  ]
}