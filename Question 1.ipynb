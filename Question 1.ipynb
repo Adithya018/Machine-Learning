{
  "metadata": {
    "language_info": {
      "codemirror_mode": {
        "name": "python",
        "version": 3
      },
      "file_extension": ".py",
      "mimetype": "text/x-python",
      "name": "python",
      "nbconvert_exporter": "python",
      "pygments_lexer": "ipython3",
      "version": "3.8"
    },
    "kernelspec": {
      "name": "python",
      "display_name": "Python (Pyodide)",
      "language": "python"
    }
  },
  "nbformat_minor": 4,
  "nbformat": 4,
  "cells": [
    {
      "cell_type": "code",
      "source": "import numpy as np\n\n# Generate a random vector of size 15 with integers in the range 1-20\nrand_vec = np.random.randint(low=1, high=21, size=15)\n\nprint(rand_vec)\n",
      "metadata": {
        "trusted": true
      },
      "execution_count": 1,
      "outputs": [
        {
          "name": "stdout",
          "text": "[17 11 15  4 14 12  6  1 18  1 14 11  2  5  3]\n",
          "output_type": "stream"
        }
      ]
    },
    {
      "cell_type": "code",
      "source": "import numpy as np\n\n# Generate a random vector of size 15 with integers in the range 1-20\nrand_vec = np.random.randint(low=1, high=21, size=15)\n\n# Reshape the vector into a 3 by 5 array\narr_3x5 = rand_vec.reshape((3, 5))\n\nprint(arr_3x5)\n",
      "metadata": {
        "trusted": true
      },
      "execution_count": 2,
      "outputs": [
        {
          "name": "stdout",
          "text": "[[ 8  6 19 17  5]\n [ 2  3 17 19  5]\n [16 17 15 17 18]]\n",
          "output_type": "stream"
        }
      ]
    },
    {
      "cell_type": "code",
      "source": "import numpy as np\n\n# Generate a random vector of size 15 with integers in the range 1-20\nrand_vec = np.random.randint(low=1, high=21, size=15)\n\n# Reshape the vector into a 3 by 5 array\narr_3x5 = rand_vec.reshape((3, 5))\n\n# Print the shape of the array\nprint(arr_3x5.shape)\n",
      "metadata": {
        "trusted": true
      },
      "execution_count": 3,
      "outputs": [
        {
          "name": "stdout",
          "text": "(3, 5)\n",
          "output_type": "stream"
        }
      ]
    },
    {
      "cell_type": "code",
      "source": "import numpy as np\n\n# Generate a random vector of size 15 with integers in the range 1-20\nrand_vec = np.random.randint(low=1, high=21, size=15)\n\n# Reshape the vector into a 3 by 5 array\narr_3x5 = rand_vec.reshape((3, 5))\n\n# Replace the max value in each row with 0\nfor i in range(arr_3x5.shape[0]):\n    max_index = np.argmax(arr_3x5[i])\n    arr_3x5[i][max_index] = 0\n\nprint(arr_3x5)\n",
      "metadata": {
        "trusted": true
      },
      "execution_count": 4,
      "outputs": [
        {
          "name": "stdout",
          "text": "[[ 0  6  8 16 13]\n [ 9  0  2 17  2]\n [ 0  1  7  9  2]]\n",
          "output_type": "stream"
        }
      ]
    },
    {
      "cell_type": "code",
      "source": "",
      "metadata": {},
      "execution_count": null,
      "outputs": []
    }
  ]
}