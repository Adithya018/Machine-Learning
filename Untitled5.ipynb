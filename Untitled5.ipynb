{
  "metadata": {
    "language_info": {
      "codemirror_mode": {
        "name": "python",
        "version": 3
      },
      "file_extension": ".py",
      "mimetype": "text/x-python",
      "name": "python",
      "nbconvert_exporter": "python",
      "pygments_lexer": "ipython3",
      "version": "3.8"
    },
    "kernelspec": {
      "name": "python",
      "display_name": "Python (Pyodide)",
      "language": "python"
    }
  },
  "nbformat_minor": 4,
  "nbformat": 4,
  "cells": [
    {
      "cell_type": "code",
      "source": "circle_radius = 30\n_area_of_circle_ = 3.14 * ((circle_radius)**2)\nprint(\"Area of a circle:\",_area_of_circle_)\n_circum_of_circle_ = 2 *3.14 * circle_radius\nprint(\"circumference of a circle:\",_circum_of_circle_)",
      "metadata": {
        "trusted": true
      },
      "execution_count": 20,
      "outputs": [
        {
          "name": "stdout",
          "text": "Area of a circle: 2826.0\ncircumference of a circle: 188.4\n",
          "output_type": "stream"
        }
      ]
    },
    {
      "cell_type": "code",
      "source": "radius = float(input(\"Enter. the radius of the circle:\"))",
      "metadata": {},
      "execution_count": null,
      "outputs": []
    }
  ]
}