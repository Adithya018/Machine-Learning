{
  "metadata": {
    "language_info": {
      "codemirror_mode": {
        "name": "python",
        "version": 3
      },
      "file_extension": ".py",
      "mimetype": "text/x-python",
      "name": "python",
      "nbconvert_exporter": "python",
      "pygments_lexer": "ipython3",
      "version": "3.8"
    },
    "kernelspec": {
      "name": "python",
      "display_name": "Python (Pyodide)",
      "language": "python"
    }
  },
  "nbformat_minor": 4,
  "nbformat": 4,
  "cells": [
    {
      "cell_type": "code",
      "source": "dog = {}\n\ndog[\"name\"] = \"Fido\"\ndog[\"color\"] = \"brown\"\ndog[\"breed\"] = \"Golden Retriever\"\ndog[\"legs\"] = 4\ndog[\"age\"] = 2\n\nstudent = {\n    \"first_name\": \"John\",\n    \"last_name\": \"Doe\",\n    \"gender\": \"male\",\n    \"age\": 25,\n    \"marital_status\": \"single\",\n    \"skills\": [\"python\", \"javascript\"],\n    \"country\": \"USA\",\n    \"city\": \"New York\",\n    \"address\": \"123 Main St\"\n}\n\nprint(len(student))\n\nskills = student[\"skills\"]\nprint(type(skills))\n\nstudent[\"skills\"].append(\"java\")\nstudent[\"skills\"].append(\"c++\")\n\nprint(list(student.keys()))\n\nprint(list(student.values()))\n",
      "metadata": {
        "trusted": true
      },
      "execution_count": 5,
      "outputs": [
        {
          "name": "stdout",
          "text": "9\n<class 'list'>\n['first_name', 'last_name', 'gender', 'age', 'marital_status', 'skills', 'country', 'city', 'address']\n['John', 'Doe', 'male', 25, 'single', ['python', 'javascript', 'java', 'c++'], 'USA', 'New York', '123 Main St']\n",
          "output_type": "stream"
        }
      ]
    },
    {
      "cell_type": "code",
      "source": "",
      "metadata": {},
      "execution_count": null,
      "outputs": []
    }
  ]
}