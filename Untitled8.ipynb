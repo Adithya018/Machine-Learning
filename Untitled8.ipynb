{
  "metadata": {
    "language_info": {
      "codemirror_mode": {
        "name": "python",
        "version": 3
      },
      "file_extension": ".py",
      "mimetype": "text/x-python",
      "name": "python",
      "nbconvert_exporter": "python",
      "pygments_lexer": "ipython3",
      "version": "3.8"
    },
    "kernelspec": {
      "name": "python",
      "display_name": "Python (Pyodide)",
      "language": "python"
    }
  },
  "nbformat_minor": 4,
  "nbformat": 4,
  "cells": [
    {
      "cell_type": "code",
      "source": "radius = 10\narea = 3.14 * radius ** 2\n\n# Use the string formatting method to display the following\nprint(f\"The area of a circle with radius {radius} is {area} meters square.\")\n\n",
      "metadata": {
        "trusted": true
      },
      "execution_count": 2,
      "outputs": [
        {
          "name": "stdout",
          "text": "The area of a circle with radius 10 is 314.0 meters square.\n",
          "output_type": "stream"
        }
      ]
    }
  ]
}