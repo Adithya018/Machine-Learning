{
  "metadata": {
    "language_info": {
      "codemirror_mode": {
        "name": "python",
        "version": 3
      },
      "file_extension": ".py",
      "mimetype": "text/x-python",
      "name": "python",
      "nbconvert_exporter": "python",
      "pygments_lexer": "ipython3",
      "version": "3.8"
    },
    "kernelspec": {
      "name": "python",
      "display_name": "Python (Pyodide)",
      "language": "python"
    }
  },
  "nbformat_minor": 4,
  "nbformat": 4,
  "cells": [
    {
      "cell_type": "code",
      "source": "ages = [19, 22, 19, 24, 20, 25, 26, 24, 25, 24]\n\nages.sort()\n\nmin_age = min(ages)\nmax_age = max(ages)\n\nages.append(min_age)\nages.append(max_age)\n\nif len(ages) % 2 == 0:\n    median_age = (ages[len(ages)//2] + ages[len(ages)//2-1]) / 2\nelse:\n    median_age = ages[len(ages)//2]\n\naverage_age = sum(ages) / len(ages)\n\nrange_ages = max_age - min_age\n\nprint(\"Sorted list of ages:\", ages)\nprint(\"Minimum age:\", min_age)\nprint(\"Maximum age:\", max_age)\nprint(\"Median age:\", median_age)\nprint(\"Average age:\", average_age)\nprint(\"Range of ages:\", range_ages)\n",
      "metadata": {
        "trusted": true
      },
      "execution_count": 1,
      "outputs": [
        {
          "name": "stdout",
          "text": "Sorted list of ages: [19, 19, 20, 22, 24, 24, 24, 25, 25, 26, 19, 26]\nMinimum age: 19\nMaximum age: 26\nMedian age: 24.0\nAverage age: 22.75\nRange of ages: 7\n",
          "output_type": "stream"
        }
      ]
    },
    {
      "cell_type": "code",
      "source": "",
      "metadata": {},
      "execution_count": null,
      "outputs": []
    },
    {
      "cell_type": "code",
      "source": "",
      "metadata": {},
      "execution_count": null,
      "outputs": []
    }
  ]
}