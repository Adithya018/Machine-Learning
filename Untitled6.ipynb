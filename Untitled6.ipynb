{
  "metadata": {
    "language_info": {
      "codemirror_mode": {
        "name": "python",
        "version": 3
      },
      "file_extension": ".py",
      "mimetype": "text/x-python",
      "name": "python",
      "nbconvert_exporter": "python",
      "pygments_lexer": "ipython3",
      "version": "3.8"
    },
    "kernelspec": {
      "name": "python",
      "display_name": "Python (Pyodide)",
      "language": "python"
    }
  },
  "nbformat_minor": 4,
  "nbformat": 4,
  "cells": [
    {
      "cell_type": "code",
      "source": "sentence = \"I am a teacher and I love to inspire and teach people\"\n\n# Use the split method to separate the words in the sentence\nwords = sentence.split()\n\n# Use the set() function to get the unique words\nunique_words = set(words)\n\n# Count the number of unique words\ncount = len(unique_words)\n\nprint(f\"There are {count} unique words used in the sentence.\")\n\n#In this code.I used the split() method to separate the words in the sentence and assigned the result to a variable called words. Then I used the set() function to get the unique words from words variable and assigned it to a variable called unique_words. Finally, I used the len() function to count the number of unique words in the unique_words variable and stored it in a variable called count. And I have printed the output with a message.\n\n\n\n",
      "metadata": {
        "trusted": true
      },
      "execution_count": 1,
      "outputs": [
        {
          "name": "stdout",
          "text": "There are 10 unique words used in the sentence.\n",
          "output_type": "stream"
        }
      ]
    }
  ]
}