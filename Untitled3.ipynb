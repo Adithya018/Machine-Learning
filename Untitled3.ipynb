{
  "metadata": {
    "language_info": {
      "codemirror_mode": {
        "name": "python",
        "version": 3
      },
      "file_extension": ".py",
      "mimetype": "text/x-python",
      "name": "python",
      "nbconvert_exporter": "python",
      "pygments_lexer": "ipython3",
      "version": "3.8"
    },
    "kernelspec": {
      "name": "python",
      "display_name": "Python (Pyodide)",
      "language": "python"
    }
  },
  "nbformat_minor": 4,
  "nbformat": 4,
  "cells": [
    {
      "cell_type": "code",
      "source": "# Create a tuple containing names of your sisters and your brothers (imaginary siblings are fine)\nsisters = (\"Aditi\", \"Sheeba\", \"Joe\")\nbrothers = (\"Adithya\", \"Prakash\", \"Bharath\")\n\n# Join brothers and sisters tuples and assign it to siblings \nsiblings = sisters + brothers\n\n# How many siblings do you have?\nprint(len(siblings))\n\n# Modify the siblings tuple and add the name of your father and mother and assign it to family_members\nfather = \"John\"\nmother = \"Mary\"\nfamily_members = (father, mother) + siblings\n\nprint(len(family_members))\n\n\n#I have created two tuples called sisters and brothers, then I have concatenated both the tuple and assigned to another variable 'siblings'. Finally, I have used len function to find the length of the tuple, which is the number of siblings.\n",
      "metadata": {
        "trusted": true
      },
      "execution_count": 8,
      "outputs": [
        {
          "name": "stdout",
          "text": "6\n8\n",
          "output_type": "stream"
        }
      ]
    },
    {
      "cell_type": "code",
      "source": "",
      "metadata": {},
      "execution_count": null,
      "outputs": []
    }
  ]
}